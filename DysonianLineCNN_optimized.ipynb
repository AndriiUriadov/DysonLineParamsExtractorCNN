{
  "cells": [
    {
      "cell_type": "markdown",
      "id": "209fcff3",
      "metadata": {
        "id": "209fcff3"
      },
      "source": [
        "# 🚀 Оптимізований DysonianLineCNN\n",
        "\n",
        "Швидка версія для навчання моделі з покращеними налаштуваннями"
      ]
    },
    {
      "cell_type": "code",
      "execution_count": 1,
      "id": "142df750",
      "metadata": {
        "id": "142df750",
        "outputId": "9fdd448c-c668-4ad8-d68e-fba98cd2ebbf",
        "colab": {
          "base_uri": "https://localhost:8080/"
        }
      },
      "outputs": [
        {
          "output_type": "stream",
          "name": "stdout",
          "text": [
            "Cloning into 'DysonLineParamsExtractorCNN'...\n",
            "remote: Enumerating objects: 142, done.\u001b[K\n",
            "remote: Counting objects: 100% (142/142), done.\u001b[K\n",
            "remote: Compressing objects: 100% (108/108), done.\u001b[K\n",
            "remote: Total 142 (delta 70), reused 88 (delta 31), pack-reused 0 (from 0)\u001b[K\n",
            "Receiving objects: 100% (142/142), 263.74 KiB | 1.72 MiB/s, done.\n",
            "Resolving deltas: 100% (70/70), done.\n",
            "/content/DysonLineParamsExtractorCNN\n"
          ]
        }
      ],
      "source": [
        "# ⚡️ Клонування репозиторію для запуску в Colab\n",
        "!git clone https://github.com/AndriiUriadov/DysonLineParamsExtractorCNN.git\n",
        "%cd DysonLineParamsExtractorCNN"
      ]
    },
    {
      "cell_type": "code",
      "execution_count": 2,
      "id": "ada69450",
      "metadata": {
        "id": "ada69450",
        "outputId": "2e43374a-f4c1-4cf2-c1b8-abc4f3bba6d3",
        "colab": {
          "base_uri": "https://localhost:8080/"
        }
      },
      "outputs": [
        {
          "output_type": "stream",
          "name": "stdout",
          "text": [
            "🔍 ПЕРЕВІРКА СИСТЕМНИХ РЕСУРСІВ В COLAB\n",
            "==================================================\n",
            "\n",
            "📊 ІНФОРМАЦІЯ ПРО GPU:\n",
            "❌ GPU недоступний\n",
            "   Причина: nvidia-smi не знайдено (драйвери NVIDIA не встановлені)\n",
            "\n",
            "💾 ІНФОРМАЦІЯ ПРО RAM:\n",
            "   Загальна пам'ять: 13.6 GB\n",
            "   Доступна пам'ять: 12.5 GB\n",
            "   Використана пам'ять: 0.8 GB\n",
            "   Відсоток використання: 8.4%\n",
            "⚠️  Використовується runtime з низькою RAM (< 20 GB)\n",
            "   ✅ RAM у нормальному стані\n",
            "🌐 Працюємо в Google Colab\n",
            "💡 Для кращої продуктивності рекомендується:\n",
            "   - Використовувати GPU runtime\n",
            "   - Активувати високі ресурси RAM\n",
            "\n",
            "📋 РЕЗУЛЬТАТ ПЕРЕВІРКИ СЕРЕДОВИЩА ВИКОНАННЯ:\n",
            "❌ Недостатньо ресурсів для ефективного навчання\n",
            "\n",
            "==================================================\n"
          ]
        }
      ],
      "source": [
        "# Виконуємо код перевірки середовища виконання\n",
        "import subprocess\n",
        "import sys\n",
        "# Виконуємо файл як модуль\n",
        "exec(open('colab_gpu_check.py').read())"
      ]
    },
    {
      "cell_type": "code",
      "execution_count": null,
      "id": "78c1c864",
      "metadata": {
        "id": "78c1c864"
      },
      "outputs": [],
      "source": [
        "# Завантаження та попередня обробка даних\n",
        "from data_loader import load_and_preprocess\n",
        "\n",
        "# Завантажуємо та обробляємо дані\n",
        "X_train, X_val, X_test, y_train, y_val, y_test, y_train_dict, y_val_dict, y_test_dict, scaler_y, y_min, y_max = load_and_preprocess()\n",
        "\n",
        "print(\"✅ Дані успішно завантажено та оброблено!\")\n",
        "print(f\"   Train samples: {X_train.shape[0]}\")\n",
        "print(f\"   Val samples: {X_val.shape[0]}\")\n",
        "print(f\"   Test samples: {X_test.shape[0]}\")"
      ]
    },
    {
      "cell_type": "code",
      "execution_count": null,
      "id": "42935633",
      "metadata": {
        "id": "42935633"
      },
      "outputs": [],
      "source": [
        "# Створення оптимізованої моделі\n",
        "from model import create_model\n",
        "import torch\n",
        "\n",
        "# Визначаємо пристрій\n",
        "device = torch.device('cuda' if torch.cuda.is_available() else 'cpu')\n",
        "print(f\"🎯 Використовуємо пристрій: {device}\")\n",
        "\n",
        "# Створюємо модель з оптимізованими параметрами\n",
        "model = create_model(\n",
        "    input_size=4096,\n",
        "    hidden_sizes=[512, 256, 128],\n",
        "    num_heads=8,\n",
        "    dropout=0.1,  # Зменшено dropout для швидшого навчання\n",
        "    device=device\n",
        ")\n",
        "\n",
        "print(\"✅ Оптимізована модель створена!\")"
      ]
    },
    {
      "cell_type": "code",
      "execution_count": null,
      "id": "d6f9cfe7",
      "metadata": {
        "id": "d6f9cfe7"
      },
      "outputs": [],
      "source": [
        "# Створення оптимізованого тренера\n",
        "from trainer_optimized import create_optimized_trainer\n",
        "\n",
        "# Оптимізації пам'яті GPU\n",
        "import torch\n",
        "torch.cuda.empty_cache()\n",
        "torch.backends.cudnn.benchmark = True\n",
        "\n",
        "# Створюємо оптимізований тренер\n",
        "trainer = create_optimized_trainer(\n",
        "    model=model,\n",
        "    learning_rate=0.002,  # Збільшена швидкість навчання\n",
        "    weight_decay=1e-4,    # Збільшена регуляризація\n",
        "    device=device\n",
        ")\n",
        "\n",
        "# Створюємо DataLoader з більшим batch_size\n",
        "train_loader, val_loader, test_loader = trainer.create_data_loaders(\n",
        "    X_train, X_val, X_test, y_train, y_val, y_test, batch_size=32  # Збільшено batch_size\n",
        ")\n",
        "\n",
        "print(\"✅ Оптимізований тренер готовий до навчання!\")"
      ]
    },
    {
      "cell_type": "code",
      "execution_count": null,
      "id": "dbb8b326",
      "metadata": {
        "id": "dbb8b326"
      },
      "outputs": [],
      "source": [
        "# Навчання оптимізованої моделі\n",
        "print(\"🚀 Початок оптимізованого навчання...\")\n",
        "\n",
        "# Навчаємо модель з оптимізованими параметрами\n",
        "history = trainer.train(\n",
        "    train_loader=train_loader,\n",
        "    val_loader=val_loader,\n",
        "    num_epochs=100,\n",
        "    early_stopping_patience=15  # Зменшено терпіння для швидшого завершення\n",
        ")\n",
        "\n",
        "print(\"✅ Оптимізоване навчання завершено!\")"
      ]
    },
    {
      "cell_type": "code",
      "execution_count": null,
      "id": "e0a7f01e",
      "metadata": {
        "id": "e0a7f01e"
      },
      "outputs": [],
      "source": [
        "# Оцінка оптимізованої моделі\n",
        "print(\"📊 Оцінка оптимізованої моделі...\")\n",
        "\n",
        "# Оцінюємо на тестових даних\n",
        "test_metrics = trainer.evaluate(test_loader)\n",
        "\n",
        "print(\"✅ Оцінка завершена!\")"
      ]
    },
    {
      "cell_type": "code",
      "execution_count": null,
      "id": "c4dcdbec",
      "metadata": {
        "id": "c4dcdbec"
      },
      "outputs": [],
      "source": [
        "# Візуалізація результатів\n",
        "from utils import plot_training_results, plot_predictions_vs_actual\n",
        "from model_visualizer import visualize_model_architecture\n",
        "\n",
        "# Візуалізуємо архітектуру моделі\n",
        "visualize_model_architecture(model, device)\n",
        "\n",
        "# Візуалізуємо результати навчання\n",
        "plot_training_results(history)\n",
        "\n",
        "# Візуалізуємо передбачення\n",
        "plot_predictions_vs_actual(model, test_loader, device, scaler_y)\n",
        "\n",
        "print(\"✅ Візуалізація завершена!\")"
      ]
    },
    {
      "cell_type": "code",
      "execution_count": null,
      "id": "e4be0047",
      "metadata": {
        "id": "e4be0047"
      },
      "outputs": [],
      "source": [
        "# Порівняння з базовою версією\n",
        "print(\"📈 Порівняння оптимізацій:\")\n",
        "print(\"   • Batch size: 32 (замість 16)\")\n",
        "print(\"   • Learning rate: 0.002 (замість 0.001)\")\n",
        "print(\"   • Weight decay: 1e-4 (замість 1e-5)\")\n",
        "print(\"   • Optimizer: AdamW (замість Adam)\")\n",
        "print(\"   • Mixed precision: увімкнено\")\n",
        "print(\"   • CUDNN benchmark: увімкнено\")\n",
        "print(\"   • Workers: 2 (паралельне завантаження)\")\n",
        "print(\"   • Early stopping patience: 15 (замість 20)\")\n",
        "print(\"   • Dropout: 0.1 (замість 0.2)\")\n",
        "\n",
        "print(\"\\n🎯 Очікувані покращення:\")\n",
        "print(\"   • Швидкість навчання: +30-50%\")\n",
        "print(\"   • Використання GPU: +20-30%\")\n",
        "print(\"   • Стабільність навчання: покращено\")\n",
        "print(\"   • Якість моделі: збережено або покращено\")"
      ]
    }
  ],
  "metadata": {
    "colab": {
      "provenance": []
    },
    "language_info": {
      "name": "python"
    },
    "kernelspec": {
      "name": "python3",
      "display_name": "Python 3"
    }
  },
  "nbformat": 4,
  "nbformat_minor": 5
}