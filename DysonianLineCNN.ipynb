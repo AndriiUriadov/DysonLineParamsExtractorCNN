{
 "cells": [
  {
   "cell_type": "markdown",
   "metadata": {},
   "source": [
    "# DysonianLineCNN - Нейронна мережа для передбачення параметрів лінії Дайсона\n",
    "\n",
    "Цей notebook містить код для навчання CNN моделі для передбачення параметрів лінії Дайсона.\n",
    "\n",
    "## Структура проекту:\n",
    "- `colab_gpu_check.py` - перевірка системних ресурсів\n",
    "- `data_loader.py` - завантаження та підготовка даних\n",
    "- `model.py` - архітектура нейронної мережі\n",
    "- `trainer.py` - навчання моделі\n",
    "- `utils.py` - допоміжні функції"
   ]
  },
  {
   "cell_type": "markdown",
   "metadata": {},
   "source": [
    "## 1. Перевірка середовища виконання"
   ]
  },
  {
   "cell_type": "code",
   "execution_count": null,
   "metadata": {},
   "outputs": [],
   "source": [
    "# Виконуємо код перевірки середовища виконання\n",
    "exec(open('colab_gpu_check.py').read())"
   ]
  },
  {
   "cell_type": "markdown",
   "metadata": {},
   "source": [
    "## 2. Завантаження та підготовка даних"
   ]
  },
  {
   "cell_type": "code",
   "execution_count": null,
   "metadata": {},
   "outputs": [],
   "source": [
    "# Імпортуємо функції для роботи з даними\n",
    "from data_loader import load_and_preprocess\n",
    "\n",
    "# Завантажуємо та підготовляємо дані\n",
    "(X_train, X_val, X_test, y_train, y_val, y_test, \n",
    " y_train_dict, y_val_dict, y_test_dict, scaler_y, y_min, y_max) = load_and_preprocess()"
   ]
  }
 ],
 "metadata": {
  "kernelspec": {
   "display_name": "Python 3",
   "language": "python",
   "name": "python3"
  },
  "language_info": {
   "codemirror_mode": {
    "name": "ipython",
    "version": 3
   },
   "file_extension": ".py",
   "mimetype": "text/x-python",
   "name": "python",
   "nbconvert_exporter": "python",
   "pygments_lexer": "ipython3",
   "version": "3.8.5"
  }
 },
 "nbformat": 4,
 "nbformat_minor": 4
}