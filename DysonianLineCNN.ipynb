{
 "cells": [
  {
   "cell_type": "markdown",
   "id": "d745cc55",
   "metadata": {},
   "source": [
    "# DysonianLineCNN - Нейронна мережа для передбачення параметрів лінії Дайсона\n",
    "\n",
    "Цей notebook містить код для навчання CNN моделі для передбачення параметрів лінії Дайсона.\n",
    "\n",
    "## Структура проекту:\n",
    "- `colab_gpu_check.py` - перевірка системних ресурсів\n",
    "- `data_loader.py` - завантаження та підготовка даних\n",
    "- `model.py` - архітектура нейронної мережі\n",
    "- `trainer.py` - навчання моделі\n",
    "- `utils.py` - допоміжні функції\n",
    "- `model_visualizer.py` - візуалізація моделі"
   ]
  },
  {
   "cell_type": "code",
   "execution_count": null,
   "id": "bdbc9eb2",
   "metadata": {},
   "outputs": [],
   "source": [
    "# ⚡️ Клонування репозиторію для запуску в Colab\n",
    "!git clone https://github.com/AndriiUriadov/DysonLineParamsExtractorCNN.git\n",
    "%cd DysonLineParamsExtractorCNN"
   ]
  },
  {
   "cell_type": "code",
   "execution_count": null,
   "id": "e706a2ba",
   "metadata": {},
   "outputs": [],
   "source": [
    "# Виконуємо код перевірки середовища виконання\n",
    "import subprocess\n",
    "import sys\n",
    "# Виконуємо файл як модуль\n",
    "exec(open('colab_gpu_check.py').read())"
   ]
  },
  {
   "cell_type": "code",
   "execution_count": null,
   "id": "791310dc",
   "metadata": {},
   "outputs": [],
   "source": [
    "# Завантаження та попередня обробка даних\n",
    "from data_loader import load_and_preprocess\n",
    "\n",
    "# Завантажуємо та обробляємо дані\n",
    "X_train, X_val, X_test, y_train, y_val, y_test, y_train_dict, y_val_dict, y_test_dict, scaler_y, y_min, y_max = load_and_preprocess()\n",
    "\n",
    "print(\"✅ Дані успішно завантажено та оброблено!\")\n",
    "print(f\"   Train samples: {X_train.shape[0]}\")\n",
    "print(f\"   Val samples: {X_val.shape[0]}\")\n",
    "print(f\"   Test samples: {X_test.shape[0]}\")"
   ]
  },
  {
   "cell_type": "code",
   "execution_count": null,
   "id": "f74dd5f6",
   "metadata": {},
   "outputs": [],
   "source": [
    "# Створення моделі\n",
    "from model import create_model\n",
    "import torch\n",
    "\n",
    "# Визначаємо пристрій\n",
    "device = torch.device('cuda' if torch.cuda.is_available() else 'cpu')\n",
    "print(f\"🎯 Використовуємо пристрій: {device}\")\n",
    "\n",
    "# Створюємо модель\n",
    "model = create_model(\n",
    "    input_size=4096,\n",
    "    hidden_sizes=[512, 256, 128],\n",
    "    num_heads=8,\n",
    "    dropout=0.2,\n",
    "    device=device\n",
    ")\n",
    "\n",
    "print(\"✅ Модель створена!\")"
   ]
  },
  {
   "cell_type": "code",
   "execution_count": null,
   "id": "d8b0a8a9",
   "metadata": {},
   "outputs": [],
   "source": [
    "# Створення тренера\n",
    "from trainer import create_trainer\n",
    "\n",
    "# Оптимізації пам'яті GPU\n",
    "import torch\n",
    "torch.cuda.empty_cache()\n",
    "torch.backends.cudnn.benchmark = True\n",
    "\n",
    "# Створюємо тренер\n",
    "trainer = create_trainer(\n",
    "    model=model,\n",
    "    learning_rate=0.001,\n",
    "    weight_decay=1e-5,\n",
    "    device=device\n",
    ")\n",
    "\n",
    "# Створюємо DataLoader\n",
    "train_loader, val_loader, test_loader = trainer.create_data_loaders(\n",
    "    X_train, X_val, X_test, y_train, y_val, y_test, batch_size=16\n",
    ")\n",
    "\n",
    "print(\"✅ Тренер готовий до навчання!\")"
   ]
  },
  {
   "cell_type": "code",
   "execution_count": null,
   "id": "cfa1d3d3",
   "metadata": {},
   "outputs": [],
   "source": [
    "# Навчання моделі\n",
    "print(\"🚀 Початок навчання...\")\n",
    "\n",
    "# Навчаємо модель\n",
    "history = trainer.train(\n",
    "    train_loader=train_loader,\n",
    "    val_loader=val_loader,\n",
    "    num_epochs=100,\n",
    "    early_stopping_patience=20\n",
    ")\n",
    "\n",
    "print(\"✅ Навчання завершено!\")"
   ]
  },
  {
   "cell_type": "code",
   "execution_count": null,
   "id": "d836aa85",
   "metadata": {},
   "outputs": [],
   "source": [
    "# Оцінка моделі\n",
    "print(\"📊 Оцінка моделі...\")\n",
    "\n",
    "# Оцінюємо на тестових даних\n",
    "test_metrics = trainer.evaluate(test_loader)\n",
    "\n",
    "print(\"✅ Оцінка завершена!\")"
   ]
  },
  {
   "cell_type": "code",
   "execution_count": null,
   "id": "3345cd3e",
   "metadata": {},
   "outputs": [],
   "source": [
    "# Візуалізація результатів\n",
    "from utils import plot_training_results, plot_predictions_vs_actual\n",
    "from model_visualizer import visualize_model_architecture\n",
    "\n",
    "# Візуалізуємо архітектуру моделі\n",
    "visualize_model_architecture(model, device)\n",
    "\n",
    "# Візуалізуємо результати навчання\n",
    "plot_training_results(history)\n",
    "\n",
    "# Візуалізуємо передбачення\n",
    "plot_predictions_vs_actual(model, test_loader, device, scaler_y)\n",
    "\n",
    "print(\"✅ Візуалізація завершена!\")"
   ]
  }
 ],
 "metadata": {},
 "nbformat": 4,
 "nbformat_minor": 5
}
