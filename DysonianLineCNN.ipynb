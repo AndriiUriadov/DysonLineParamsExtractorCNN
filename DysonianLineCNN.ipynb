{
 "cells": [
  {
   "cell_type": "markdown",
   "metadata": {},
   "source": [
    "# DysonianLineCNN - \u041d\u0435\u0439\u0440\u043e\u043d\u043d\u0430 \u043c\u0435\u0440\u0435\u0436\u0430 \u0434\u043b\u044f \u043f\u0435\u0440\u0435\u0434\u0431\u0430\u0447\u0435\u043d\u043d\u044f \u043f\u0430\u0440\u0430\u043c\u0435\u0442\u0440\u0456\u0432 \u043b\u0456\u043d\u0456\u0457 \u0414\u0430\u0439\u0441\u043e\u043d\u0430\n",
    "\n",
    "\u0426\u0435\u0439 notebook \u043c\u0456\u0441\u0442\u0438\u0442\u044c \u043a\u043e\u0434 \u0434\u043b\u044f \u043d\u0430\u0432\u0447\u0430\u043d\u043d\u044f CNN \u043c\u043e\u0434\u0435\u043b\u0456 \u0434\u043b\u044f \u043f\u0435\u0440\u0435\u0434\u0431\u0430\u0447\u0435\u043d\u043d\u044f \u043f\u0430\u0440\u0430\u043c\u0435\u0442\u0440\u0456\u0432 \u043b\u0456\u043d\u0456\u0457 \u0414\u0430\u0439\u0441\u043e\u043d\u0430.\n",
    "\n",
    "## \u0421\u0442\u0440\u0443\u043a\u0442\u0443\u0440\u0430 \u043f\u0440\u043e\u0435\u043a\u0442\u0443:\n",
    "- `colab_gpu_check.py` - \u043f\u0435\u0440\u0435\u0432\u0456\u0440\u043a\u0430 \u0441\u0438\u0441\u0442\u0435\u043c\u043d\u0438\u0445 \u0440\u0435\u0441\u0443\u0440\u0441\u0456\u0432\n",
    "- `data_loader.py` - \u0437\u0430\u0432\u0430\u043d\u0442\u0430\u0436\u0435\u043d\u043d\u044f \u0442\u0430 \u043f\u0456\u0434\u0433\u043e\u0442\u043e\u0432\u043a\u0430 \u0434\u0430\u043d\u0438\u0445\n",
    "- `model.py` - \u0430\u0440\u0445\u0456\u0442\u0435\u043a\u0442\u0443\u0440\u0430 \u043d\u0435\u0439\u0440\u043e\u043d\u043d\u043e\u0457 \u043c\u0435\u0440\u0435\u0436\u0456\n",
    "- `trainer.py` - \u043d\u0430\u0432\u0447\u0430\u043d\u043d\u044f \u043c\u043e\u0434\u0435\u043b\u0456\n",
    "- `utils.py` - \u0434\u043e\u043f\u043e\u043c\u0456\u0436\u043d\u0456 \u0444\u0443\u043d\u043a\u0446\u0456\u0457"
   ]
  },
  {
   "cell_type": "code",
   "execution_count": null,
   "metadata": {},
   "outputs": [],
   "source": [
    "# \u26a1\ufe0f \u041a\u043b\u043e\u043d\u0443\u0432\u0430\u043d\u043d\u044f \u0440\u0435\u043f\u043e\u0437\u0438\u0442\u043e\u0440\u0456\u044e \u0434\u043b\u044f \u0437\u0430\u043f\u0443\u0441\u043a\u0443 \u0432 Colab\n",
    "!git clone https://github.com/AndriiUriadov/DysonLineParamsExtractorCNN.git\n",
    "%cd DysonLineParamsExtractorCNN"
   ]
  },
  {
   "cell_type": "markdown",
   "metadata": {},
   "source": [
    "## 1. \u041f\u0435\u0440\u0435\u0432\u0456\u0440\u043a\u0430 \u0441\u0435\u0440\u0435\u0434\u043e\u0432\u0438\u0449\u0430 \u0432\u0438\u043a\u043e\u043d\u0430\u043d\u043d\u044f"
   ]
  },
  {
   "cell_type": "code",
   "execution_count": null,
   "metadata": {},
   "outputs": [],
   "source": [
    "# \u0412\u0438\u043a\u043e\u043d\u0443\u0454\u043c\u043e \u043a\u043e\u0434 \u043f\u0435\u0440\u0435\u0432\u0456\u0440\u043a\u0438 \u0441\u0435\u0440\u0435\u0434\u043e\u0432\u0438\u0449\u0430 \u0432\u0438\u043a\u043e\u043d\u0430\u043d\u043d\u044f\n",
    "import subprocess\n",
    "import sys\n",
    "\n",
    "# \u0412\u0438\u043a\u043e\u043d\u0443\u0454\u043c\u043e \u0444\u0430\u0439\u043b \u044f\u043a \u043c\u043e\u0434\u0443\u043b\u044c\n",
    "exec(open('colab_gpu_check.py').read())\n"
   ]
  },
  {
   "cell_type": "markdown",
   "metadata": {},
   "source": [
    "## 2. \u0417\u0430\u0432\u0430\u043d\u0442\u0430\u0436\u0435\u043d\u043d\u044f \u0442\u0430 \u043f\u0456\u0434\u0433\u043e\u0442\u043e\u0432\u043a\u0430 \u0434\u0430\u043d\u0438\u0445"
   ]
  },
  {
   "cell_type": "code",
   "execution_count": null,
   "metadata": {},
   "outputs": [],
   "source": [
    "# \u0406\u043c\u043f\u043e\u0440\u0442\u0443\u0454\u043c\u043e \u0444\u0443\u043d\u043a\u0446\u0456\u0457 \u0434\u043b\u044f \u0440\u043e\u0431\u043e\u0442\u0438 \u0437 \u0434\u0430\u043d\u0438\u043c\u0438\n",
    "from data_loader import load_and_preprocess\n",
    "\n",
    "# \u0417\u0430\u0432\u0430\u043d\u0442\u0430\u0436\u0443\u0454\u043c\u043e \u0442\u0430 \u043f\u0456\u0434\u0433\u043e\u0442\u043e\u0432\u043b\u044f\u0454\u043c\u043e \u0434\u0430\u043d\u0456\n",
    "(X_train, X_val, X_test, y_train, y_val, y_test, \n",
    " y_train_dict, y_val_dict, y_test_dict, scaler_y, y_min, y_max) = load_and_preprocess()"
   ]
  },
  {
   "cell_type": "markdown",
   "metadata": {},
   "source": [
    "## 3. \u0421\u0442\u0432\u043e\u0440\u0435\u043d\u043d\u044f \u043c\u043e\u0434\u0435\u043b\u0456"
   ]
  },
  {
   "cell_type": "code",
   "execution_count": null,
   "metadata": {},
   "outputs": [],
   "source": [
    "# \u0406\u043c\u043f\u043e\u0440\u0442\u0443\u0454\u043c\u043e \u0444\u0443\u043d\u043a\u0446\u0456\u0457 \u0434\u043b\u044f \u0441\u0442\u0432\u043e\u0440\u0435\u043d\u043d\u044f \u043c\u043e\u0434\u0435\u043b\u0456\n",
    "from model import create_model, test_model\n",
    "from utils import check_device_availability\n",
    "\n",
    "# \u041f\u0435\u0440\u0435\u0432\u0456\u0440\u044f\u0454\u043c\u043e \u0434\u043e\u0441\u0442\u0443\u043f\u043d\u0456\u0441\u0442\u044c GPU\n",
    "device = check_device_availability()\n",
    "\n",
    "# \u0421\u0442\u0432\u043e\u0440\u044e\u0454\u043c\u043e \u043c\u043e\u0434\u0435\u043b\u044c\n",
    "model = create_model(device=device)\n",
    "\n",
    "# \u0422\u0435\u0441\u0442\u0443\u0454\u043c\u043e \u043c\u043e\u0434\u0435\u043b\u044c\n",
    "test_model(model)"
   ]
  },
  {
   "cell_type": "markdown",
   "metadata": {},
   "source": [
    "## 4. \u041d\u0430\u0432\u0447\u0430\u043d\u043d\u044f \u043c\u043e\u0434\u0435\u043b\u0456"
   ]
  },
  {
   "cell_type": "code",
   "execution_count": null,
   "metadata": {},
   "outputs": [],
   "source": [
    "# \u0406\u043c\u043f\u043e\u0440\u0442\u0443\u0454\u043c\u043e \u0444\u0443\u043d\u043a\u0446\u0456\u0457 \u0434\u043b\u044f \u043d\u0430\u0432\u0447\u0430\u043d\u043d\u044f\n",
    "from trainer import create_trainer\n",
    "\n",
    "# \u041e\u043f\u0442\u0438\u043c\u0456\u0437\u0430\u0446\u0456\u0457 \u043f\u0430\u043c'\u044f\u0442\u0456 GPU\n",
    "import torch\n",
    "torch.cuda.empty_cache()\n",
    "torch.backends.cudnn.benchmark = True\n",
    "\n",
    "# \u0421\u0442\u0432\u043e\u0440\u044e\u0454\u043c\u043e \u0442\u0440\u0435\u043d\u0435\u0440\n",
    "trainer = create_trainer(model, device=device)\n",
    "\n",
    "# \u0421\u0442\u0432\u043e\u0440\u044e\u0454\u043c\u043e DataLoader \u0437 \u043c\u0435\u043d\u0448\u0438\u043c batch_size\n",
    "train_loader, val_loader, test_loader = trainer.create_data_loaders(\n",
    "    X_train, X_val, X_test, y_train, y_val, y_test, batch_size=8\n",
    ")\n",
    "\n",
    "# \u041d\u0430\u0432\u0447\u0430\u0454\u043c\u043e \u043c\u043e\u0434\u0435\u043b\u044c\n",
    "history = trainer.train(train_loader, val_loader, num_epochs=100)\n"
   ]
  },
  {
   "cell_type": "markdown",
   "metadata": {},
   "source": [
    "## 5. \u041e\u0446\u0456\u043d\u043a\u0430 \u043c\u043e\u0434\u0435\u043b\u0456"
   ]
  },
  {
   "cell_type": "code",
   "execution_count": null,
   "metadata": {},
   "outputs": [],
   "source": [
    "# \u041e\u0446\u0456\u043d\u044e\u0454\u043c\u043e \u043c\u043e\u0434\u0435\u043b\u044c \u043d\u0430 \u0442\u0435\u0441\u0442\u043e\u0432\u0438\u0445 \u0434\u0430\u043d\u0438\u0445\n",
    "test_metrics = trainer.evaluate(test_loader)\n",
    "\n",
    "# \u0412\u0456\u0437\u0443\u0430\u043b\u0456\u0437\u0443\u0454\u043c\u043e \u0456\u0441\u0442\u043e\u0440\u0456\u044e \u043d\u0430\u0432\u0447\u0430\u043d\u043d\u044f\n",
    "trainer.plot_training_history()"
   ]
  },
  {
   "cell_type": "markdown",
   "metadata": {},
   "source": [
    "## 6. \u0414\u0435\u0442\u0430\u043b\u044c\u043d\u0438\u0439 \u0430\u043d\u0430\u043b\u0456\u0437 \u0440\u0435\u0437\u0443\u043b\u044c\u0442\u0430\u0442\u0456\u0432"
   ]
  },
  {
   "cell_type": "code",
   "execution_count": null,
   "metadata": {},
   "outputs": [],
   "source": [
    "# \u0406\u043c\u043f\u043e\u0440\u0442\u0443\u0454\u043c\u043e \u0444\u0443\u043d\u043a\u0446\u0456\u0457 \u0434\u043b\u044f \u0430\u043d\u0430\u043b\u0456\u0437\u0443\n",
    "from utils import (\n",
    "    plot_predictions_vs_targets, plot_residuals, plot_correlation_matrix,\n",
    "    create_prediction_report, save_scaler, save_training_results\n",
    ")\n",
    "\n",
    "# \u041e\u0442\u0440\u0438\u043c\u0443\u0454\u043c\u043e \u043f\u0435\u0440\u0435\u0434\u0431\u0430\u0447\u0435\u043d\u043d\u044f \u043d\u0430 \u0442\u0435\u0441\u0442\u043e\u0432\u0438\u0445 \u0434\u0430\u043d\u0438\u0445\n",
    "trainer.model.eval()\n",
    "with torch.no_grad():\n",
    "    test_predictions = trainer.model(torch.FloatTensor(X_test).to(device)).cpu().numpy()\n",
    "\n",
    "# \u0414\u0435\u043d\u043e\u0440\u043c\u0430\u043b\u0456\u0437\u0443\u0454\u043c\u043e \u043f\u0435\u0440\u0435\u0434\u0431\u0430\u0447\u0435\u043d\u043d\u044f\n",
    "test_predictions_denorm = denormalize_predictions(test_predictions, scaler_y)\n",
    "test_targets_denorm = denormalize_predictions(y_test, scaler_y)\n",
    "\n",
    "# \u0421\u0442\u0432\u043e\u0440\u044e\u0454\u043c\u043e \u0434\u0435\u0442\u0430\u043b\u044c\u043d\u0438\u0439 \u0437\u0432\u0456\u0442\n",
    "report = create_prediction_report(test_predictions_denorm, test_targets_denorm)\n",
    "\n",
    "# \u0412\u0456\u0437\u0443\u0430\u043b\u0456\u0437\u0443\u0454\u043c\u043e \u0440\u0435\u0437\u0443\u043b\u044c\u0442\u0430\u0442\u0438\n",
    "plot_predictions_vs_targets(test_predictions_denorm, test_targets_denorm)\n",
    "plot_residuals(test_predictions_denorm, test_targets_denorm)\n",
    "plot_correlation_matrix(test_predictions_denorm, test_targets_denorm)\n",
    "\n",
    "# \u0417\u0431\u0435\u0440\u0456\u0433\u0430\u0454\u043c\u043e \u0440\u0435\u0437\u0443\u043b\u044c\u0442\u0430\u0442\u0438\n",
    "save_scaler(scaler_y, 'scaler_y.pkl')\n",
    "save_training_results(history, 'training_history.pkl')"
   ]
  }
 ],
 "metadata": {
  "kernelspec": {
   "display_name": "Python 3",
   "language": "python",
   "name": "python3"
  },
  "language_info": {
   "codemirror_mode": {
    "name": "ipython",
    "version": 3
   },
   "file_extension": ".py",
   "mimetype": "text/x-python",
   "name": "python",
   "nbconvert_exporter": "python",
   "pygments_lexer": "ipython3",
   "version": "3.8.5"
  }
 },
 "nbformat": 4,
 "nbformat_minor": 4
}