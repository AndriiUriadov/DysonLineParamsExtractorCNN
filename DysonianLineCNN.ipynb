{
 "cells": [
  {
   "cell_type": "markdown",
   "metadata": {},
   "source": [
    "# DysonianLineCNN - Нейронна мережа для передбачення параметрів лінії Дайсона\n",
    "\n",
    "Цей notebook містить код для навчання CNN моделі для передбачення параметрів лінії Дайсона.\n",
    "\n",
    "## Структура проекту:\n",
    "- `colab_gpu_check.py` - перевірка системних ресурсів\n",
    "- `data_loader.py` - завантаження та підготовка даних\n",
    "- `model.py` - архітектура нейронної мережі\n",
    "- `trainer.py` - навчання моделі\n",
    "- `utils.py` - допоміжні функції"
   ]
  },
  {
   "cell_type": "code",
   "execution_count": null,
   "metadata": {},
   "outputs": [],
   "source": [
    "# ⚡️ Клонування репозиторію для запуску в Colab\n",
    "!git clone https://github.com/AndriiUriadov/DysonLineParamsExtractorCNN.git\n",
    "%cd DysonLineParamsExtractorCNN"
   ]
  },
  {
   "cell_type": "markdown",
   "metadata": {},
   "source": [
    "## 1. Перевірка середовища виконання"
   ]
  },
  {
   "cell_type": "code",
   "execution_count": null,
   "metadata": {},
   "outputs": [],
   "source": [
    "# Виконуємо код перевірки середовища виконання\n",
    "exec(open('colab_gpu_check.py').read())"
   ]
  },
  {
   "cell_type": "markdown",
   "metadata": {},
   "source": [
    "## 2. Завантаження та підготовка даних"
   ]
  },
  {
   "cell_type": "code",
   "execution_count": null,
   "metadata": {},
   "outputs": [],
   "source": [
    "# Імпортуємо функції для роботи з даними\n",
    "from data_loader import load_and_preprocess\n",
    "\n",
    "# Завантажуємо та підготовляємо дані\n",
    "(X_train, X_val, X_test, y_train, y_val, y_test, \n",
    " y_train_dict, y_val_dict, y_test_dict, scaler_y, y_min, y_max) = load_and_preprocess()"
   ]
  },
  {
   "cell_type": "markdown",
   "metadata": {},
   "source": [
    "## 3. Створення моделі"
   ]
  },
  {
   "cell_type": "code",
   "execution_count": null,
   "metadata": {},
   "outputs": [],
   "source": [
    "# Імпортуємо функції для створення моделі\n",
    "from model import create_model, test_model\n",
    "from utils import check_device_availability\n",
    "\n",
    "# Перевіряємо доступність GPU\n",
    "device = check_device_availability()\n",
    "\n",
    "# Створюємо модель\n",
    "model = create_model(device=device)\n",
    "\n",
    "# Тестуємо модель\n",
    "test_model(model)"
   ]
  },
  {
   "cell_type": "markdown",
   "metadata": {},
   "source": [
    "## 4. Навчання моделі"
   ]
  },
  {
   "cell_type": "code",
   "execution_count": null,
   "metadata": {},
   "outputs": [],
   "source": [
    "# Імпортуємо функції для навчання\n",
    "from trainer import create_trainer\n",
    "\n",
    "# Створюємо тренер\n",
    "trainer = create_trainer(model, device=device)\n",
    "\n",
    "# Створюємо DataLoader\n",
    "train_loader, val_loader, test_loader = trainer.create_data_loaders(\n",
    "    X_train, X_val, X_test, y_train, y_val, y_test, batch_size=32\n",
    ")\n",
    "\n",
    "# Навчаємо модель\n",
    "history = trainer.train(train_loader, val_loader, num_epochs=100)"
   ]
  },
  {
   "cell_type": "markdown",
   "metadata": {},
   "source": [
    "## 5. Оцінка моделі"
   ]
  },
  {
   "cell_type": "code",
   "execution_count": null,
   "metadata": {},
   "outputs": [],
   "source": [
    "# Оцінюємо модель на тестових даних\n",
    "test_metrics = trainer.evaluate(test_loader)\n",
    "\n",
    "# Візуалізуємо історію навчання\n",
    "trainer.plot_training_history()"
   ]
  },
  {
   "cell_type": "markdown",
   "metadata": {},
   "source": [
    "## 6. Детальний аналіз результатів"
   ]
  },
  {
   "cell_type": "code",
   "execution_count": null,
   "metadata": {},
   "outputs": [],
   "source": [
    "# Імпортуємо функції для аналізу\n",
    "from utils import (\n",
    "    plot_predictions_vs_targets, plot_residuals, plot_correlation_matrix,\n",
    "    create_prediction_report, save_scaler, save_training_results\n",
    ")\n",
    "\n",
    "# Отримуємо передбачення на тестових даних\n",
    "trainer.model.eval()\n",
    "with torch.no_grad():\n",
    "    test_predictions = trainer.model(torch.FloatTensor(X_test).to(device)).cpu().numpy()\n",
    "\n",
    "# Денормалізуємо передбачення\n",
    "test_predictions_denorm = denormalize_predictions(test_predictions, scaler_y)\n",
    "test_targets_denorm = denormalize_predictions(y_test, scaler_y)\n",
    "\n",
    "# Створюємо детальний звіт\n",
    "report = create_prediction_report(test_predictions_denorm, test_targets_denorm)\n",
    "\n",
    "# Візуалізуємо результати\n",
    "plot_predictions_vs_targets(test_predictions_denorm, test_targets_denorm)\n",
    "plot_residuals(test_predictions_denorm, test_targets_denorm)\n",
    "plot_correlation_matrix(test_predictions_denorm, test_targets_denorm)\n",
    "\n",
    "# Зберігаємо результати\n",
    "save_scaler(scaler_y, 'scaler_y.pkl')\n",
    "save_training_results(history, 'training_history.pkl')"
   ]
  }
 ],
 "metadata": {
  "kernelspec": {
   "display_name": "Python 3",
   "language": "python",
   "name": "python3"
  },
  "language_info": {
   "codemirror_mode": {
    "name": "ipython",
    "version": 3
   },
   "file_extension": ".py",
   "mimetype": "text/x-python",
   "name": "python",
   "nbconvert_exporter": "python",
   "pygments_lexer": "ipython3",
   "version": "3.8.5"
  }
 },
 "nbformat": 4,
 "nbformat_minor": 4
}
